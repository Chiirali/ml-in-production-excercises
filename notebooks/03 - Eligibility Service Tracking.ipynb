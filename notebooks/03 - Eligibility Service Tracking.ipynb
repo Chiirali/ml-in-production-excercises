{
 "cells": [
  {
   "cell_type": "markdown",
   "id": "metropolitan-stephen",
   "metadata": {},
   "source": [
    "# Excercise 3: Track Experiments"
   ]
  },
  {
   "cell_type": "markdown",
   "id": "military-arbor",
   "metadata": {},
   "source": [
    "## Prepare data once again"
   ]
  },
  {
   "cell_type": "code",
   "execution_count": 1,
   "id": "exclusive-vienna",
   "metadata": {},
   "outputs": [],
   "source": [
    "import pandas as pd\n",
    "import numpy as np\n",
    "import matplotlib.pyplot as plt\n",
    "import seaborn as sns\n",
    "sns.set_style('whitegrid')\n",
    "\n",
    "start_df = pd.read_csv('./clean-loan-data.csv', low_memory=False)\n",
    "\n",
    "pd.set_option('display.max_columns', None)\n",
    "\n",
    "df = start_df.copy(deep=True)\n",
    "df['TARGET'] = [0 if i=='Default' else 1 for i in df['loan_status']]\n",
    "df.drop(df.columns.difference(['loan_amnt', 'annual_inc', 'TARGET']), 1, inplace=True)\n",
    "df = df.dropna()\n",
    "df = pd.get_dummies(df)"
   ]
  },
  {
   "cell_type": "code",
   "execution_count": 2,
   "id": "optional-sweden",
   "metadata": {},
   "outputs": [],
   "source": [
    "from sklearn.model_selection import train_test_split\n",
    "X_train = df.drop('TARGET',axis=1)\n",
    "y_train = df['TARGET']\n",
    "X_train, X_test, y_train, y_test = train_test_split(df.drop('TARGET',axis=1),df['TARGET'],test_size=0.15,random_state=101,  stratify=df['TARGET'])"
   ]
  },
  {
   "cell_type": "code",
   "execution_count": 3,
   "id": "partial-tattoo",
   "metadata": {},
   "outputs": [],
   "source": [
    "from imblearn.over_sampling import SMOTE\n",
    "\n",
    "sm = SMOTE(random_state=12)\n",
    "x_train_r, y_train_r = sm.fit_resample(X_train, y_train)"
   ]
  },
  {
   "cell_type": "markdown",
   "id": "european-motor",
   "metadata": {},
   "source": [
    "# Excercise 1: Track Experiment\n",
    "\n",
    "Check the documentation at https://www.mlflow.org/docs/latest/tracking.html#logging-data-to-runs and track the experiment using these functions.\n",
    "\n",
    "1. set_experiment\n",
    "2. start run\n",
    "3. log_param\n",
    "4. log_metric\n",
    "5. set_tag\n",
    "\n",
    "Check the MLFlow UI: http://localhost:5500\n",
    "\n",
    "*Questions*\n",
    "- Experiment with these values. How would you use them?\n",
    "- Can your reproduce how the pipeline looks in the MLFlow UI?"
   ]
  },
  {
   "cell_type": "code",
   "execution_count": 6,
   "id": "incident-combining",
   "metadata": {},
   "outputs": [],
   "source": [
    "from sklearn.linear_model import LogisticRegression\n",
    "from sklearn.preprocessing import StandardScaler\n",
    "from sklearn.metrics import accuracy_score, classification_report, confusion_matrix\n",
    "from sklearn.pipeline import make_pipeline\n",
    "\n",
    "import mlflow\n",
    "\n",
    "\n",
    "mlflow.set_tracking_uri(\"http://mlflow:5500\")\n",
    "\n",
    "    "
   ]
  },
  {
   "cell_type": "code",
   "execution_count": 17,
   "id": "aaabb922-b383-4e7d-b416-63d66248a973",
   "metadata": {},
   "outputs": [],
   "source": [
    "mlflow.set_experiment(\"/test-exp\")\n",
    "with mlflow.start_run():\n",
    "    log_reg = LogisticRegression(C = 0.0001,random_state=12)\n",
    "    log_reg.fit(x_train_r, y_train_r)\n",
    "    mlflow.log_param(\"C\", 0.0001)\n",
    "    mlflow.log_param(\"random_state\", 12)\n",
    "    mlflow.log_metric(\"random_state\", 200)\n",
    "    confusion_matrix(y_test, log_reg.predict(X_test))\n",
    "    mlflow.set_tag( \"hello\", \"world\")"
   ]
  },
  {
   "cell_type": "markdown",
   "id": "productive-contents",
   "metadata": {},
   "source": [
    "## Excercise 2: Autolog\n",
    "\n",
    "Instead of tracking everything manually, MLFlow supports autotracking of several libraries including sklearn.\n",
    "\n",
    "So reuse your code above, remove all calls to `set_tag` and `log_param`. Instead call `mlflow.autolog()` before starting the run.\n",
    "\n",
    "Check the MLFlow UI: http://localhost:5500\n",
    "\n",
    "Questions\n",
    "- How did that change in the MLFlow UI"
   ]
  },
  {
   "cell_type": "code",
   "execution_count": 18,
   "id": "communist-sacrifice",
   "metadata": {},
   "outputs": [],
   "source": [
    "import mlflow\n",
    "\n",
    "\n",
    "mlflow.set_tracking_uri(\"http://mlflow:5500\")\n"
   ]
  },
  {
   "cell_type": "code",
   "execution_count": 20,
   "id": "d7967275-7e21-4005-8e23-788a5bad5f77",
   "metadata": {},
   "outputs": [
    {
     "name": "stderr",
     "output_type": "stream",
     "text": [
      "2023/06/10 12:43:46 INFO mlflow.tracking.fluent: Autologging successfully enabled for sklearn.\n",
      "2023/06/10 12:43:46 INFO mlflow.tracking.fluent: Autologging successfully enabled for statsmodels.\n",
      "2023/06/10 12:43:46 INFO mlflow.utils.autologging_utils: sklearn autologging will track hyperparameters, performance metrics, model artifacts, and lineage information for the current sklearn workflow to the MLflow run with ID '0f30d030c9914933a700d0f51b86cf0e'\n"
     ]
    },
    {
     "name": "stdout",
     "output_type": "stream",
     "text": [
      "INFO: '/exercise-2' does not exist. Creating a new experiment\n"
     ]
    },
    {
     "name": "stderr",
     "output_type": "stream",
     "text": [
      "/opt/conda/lib/python3.7/site-packages/sklearn/utils/deprecation.py:87: FutureWarning: Function plot_confusion_matrix is deprecated; Function `plot_confusion_matrix` is deprecated in 1.0 and will be removed in 1.2. Use one of the class methods: ConfusionMatrixDisplay.from_predictions or ConfusionMatrixDisplay.from_estimator.\n",
      "  warnings.warn(msg, category=FutureWarning)\n",
      "/opt/conda/lib/python3.7/site-packages/sklearn/utils/deprecation.py:87: FutureWarning: Function plot_roc_curve is deprecated; Function :func:`plot_roc_curve` is deprecated in 1.0 and will be removed in 1.2. Use one of the class methods: :meth:`sklearn.metric.RocCurveDisplay.from_predictions` or :meth:`sklearn.metric.RocCurveDisplay.from_estimator`.\n",
      "  warnings.warn(msg, category=FutureWarning)\n",
      "/opt/conda/lib/python3.7/site-packages/sklearn/utils/deprecation.py:87: FutureWarning: Function plot_precision_recall_curve is deprecated; Function `plot_precision_recall_curve` is deprecated in 1.0 and will be removed in 1.2. Use one of the class methods: PrecisionRecallDisplay.from_predictions or PrecisionRecallDisplay.from_estimator.\n",
      "  warnings.warn(msg, category=FutureWarning)\n",
      "2023/06/10 12:43:50 WARNING mlflow.utils.autologging_utils: MLflow issued a warning during sklearn autologging: \"/opt/conda/lib/python3.7/site-packages/mlflow/models/signature.py:124: UserWarning: Hint: Inferred schema contains integer column(s). Integer columns in Python cannot represent missing values. If your input data contains missing values at inference time, it will be encoded as floats and will cause a schema enforcement error. The best way to avoid this problem is to infer the model schema based on a realistic data sample (training dataset) that includes missing values. Alternatively, you can declare integer columns as doubles (float64) whenever these columns may have missing values. See `Handling Integers With Missing Values <https://www.mlflow.org/docs/latest/models.html#handling-integers-with-missing-values>`_ for more details.\"\n"
     ]
    }
   ],
   "source": [
    "mlflow.set_experiment(\"/exercise-2\")\n",
    "mlflow.autolog()\n",
    "with mlflow.start_run():\n",
    "    log_reg = LogisticRegression(C = 0.0001,random_state=12)\n",
    "    log_reg.fit(x_train_r, y_train_r)\n",
    "    confusion_matrix(y_test, log_reg.predict(X_test))"
   ]
  },
  {
   "cell_type": "code",
   "execution_count": null,
   "id": "4d9927c5-ef14-46b7-8a5b-3ed8a547e362",
   "metadata": {},
   "outputs": [],
   "source": []
  }
 ],
 "metadata": {
  "kernelspec": {
   "display_name": "Python 3 (ipykernel)",
   "language": "python",
   "name": "python3"
  },
  "language_info": {
   "codemirror_mode": {
    "name": "ipython",
    "version": 3
   },
   "file_extension": ".py",
   "mimetype": "text/x-python",
   "name": "python",
   "nbconvert_exporter": "python",
   "pygments_lexer": "ipython3",
   "version": "3.7.12"
  }
 },
 "nbformat": 4,
 "nbformat_minor": 5
}
