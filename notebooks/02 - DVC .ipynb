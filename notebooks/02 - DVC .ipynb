{
 "cells": [
  {
   "cell_type": "markdown",
   "id": "productive-symphony",
   "metadata": {},
   "source": [
    "# Excercise 2: DVC\n",
    "\n",
    "Data Version Control"
   ]
  },
  {
   "cell_type": "markdown",
   "id": "vital-hughes",
   "metadata": {},
   "source": [
    "## Excercise 1: Create own branch\n",
    "\n",
    "\n",
    "It is possible to execute bash statements by prepending them with `!`\n",
    "\n",
    "\n",
    "\n",
    "\n"
   ]
  },
  {
   "cell_type": "code",
   "execution_count": 1,
   "id": "infrared-visitor",
   "metadata": {},
   "outputs": [
    {
     "name": "stdout",
     "output_type": "stream",
     "text": [
      "total 371400\r\n",
      "-rw-r--r--. 1 jovyan users    472458 May  5 13:05 '00 - Explore Loan Data .ipynb'\r\n",
      "-rw-r--r--. 1 jovyan users     29435 May  5 13:06 '01 - Eligibility Service Model.ipynb'\r\n",
      "-rw-r--r--. 1 jovyan users      8382 May  5 13:08 '02 - DVC .ipynb'\r\n",
      "-rw-r--r--. 1 jovyan users      6840 May  5 13:05 '03 - Eligibility Service Tracking.ipynb'\r\n",
      "drwxr-xr-x. 3 jovyan users      4096 May  5 05:58  artifacts\r\n",
      "-rwxrwxrwx. 1 root   root  379763062 Apr 13 13:02  clean-loan-data.csv\r\n",
      "drwxrwxrwx. 2 root   root       4096 May  3 16:00  data\r\n",
      "drwxr-xr-x. 3 jovyan users      4096 Apr 28 14:40  mlruns\r\n",
      "drwxr-xr-x. 2 jovyan users      4096 Apr 16 06:14  models\r\n"
     ]
    }
   ],
   "source": [
    "!ls -l ."
   ]
  },
  {
   "cell_type": "markdown",
   "id": "canadian-glucose",
   "metadata": {},
   "source": [
    "Create a git branch:\n",
    "\n",
    "- Add your gitinfo: \n",
    "  - `git config user.email \"you@example.com\"`\n",
    "  - `git config user.name \"Your Name\"`\n",
    "- name your branch with your name. Eg. `git checkout -b florian`\n"
   ]
  },
  {
   "cell_type": "code",
   "execution_count": 1,
   "id": "amateur-round",
   "metadata": {},
   "outputs": [],
   "source": [
    "!cat data/.gitignore"
   ]
  },
  {
   "cell_type": "code",
   "execution_count": 43,
   "id": "792ed55a",
   "metadata": {},
   "outputs": [],
   "source": [
    "!git config --global user.email \"you@example.com\"\n",
    "!git config --global user.name \"Your Name\""
   ]
  },
  {
   "cell_type": "markdown",
   "id": "excited-amplifier",
   "metadata": {},
   "source": [
    "## Excercise 2: Add Data to DVC\n",
    "\n",
    "1. Note the contents of data/.gitignore\n",
    "2. Copy our dataset to data/dvc_data.csv\n",
    "3. Add data to DVC & GIT: `dvc add data/dvc_data.csv`, `git add data/`, `git commit -m \"initial data\"`\n",
    "4. Check the content of following files:\n",
    " - data/dvc_data.csv.dvc\n",
    " - data/.gitignore\n",
    "\n",
    "\n",
    "**Questions**\n",
    "\n",
    "- How was our .gitignore changed?\n",
    "- What files did change in GIT?\n",
    "\n",
    "\n",
    "Hints: \n",
    "- Use `!cp src dest` to copy a file\n",
    "- Check git status using `git status`"
   ]
  },
  {
   "cell_type": "code",
   "execution_count": 2,
   "id": "ruled-preservation",
   "metadata": {},
   "outputs": [],
   "source": [
    "!cat data/.gitignore"
   ]
  },
  {
   "cell_type": "code",
   "execution_count": 3,
   "id": "cultural-basin",
   "metadata": {},
   "outputs": [
    {
     "name": "stdout",
     "output_type": "stream",
     "text": [
      "/home/jovyan/work/notebooks\r\n"
     ]
    }
   ],
   "source": [
    "!pwd"
   ]
  },
  {
   "cell_type": "markdown",
   "id": "geological-begin",
   "metadata": {},
   "source": [
    "## Excercise 3: Get Data from DVC\n",
    "\n",
    "1. Remove data/dvc_data.csv using `rm data/dvc_data.csv`\n",
    "2. Get the data using `dvc checkout`"
   ]
  },
  {
   "cell_type": "code",
   "execution_count": null,
   "id": "28e7904c",
   "metadata": {},
   "outputs": [],
   "source": []
  },
  {
   "cell_type": "markdown",
   "id": "scenic-canon",
   "metadata": {},
   "source": [
    "## Excercise 4: Update Existing File\n",
    "\n",
    "Update the existing file. To update the file you first need to unprotect it:\n",
    "\n",
    "1. Unprotect file: `dvc unprotect data/dvc_data.csv`\n",
    "2. Change file contents\n",
    "  - `echo \"oops\" > data/dvc_data.csv`\n",
    "3. Add changes to version control\n",
    "  - `dvc add data/dvc_data.csv`\n",
    "  - `git add data/dvc_data.csv.dvc`\n",
    "4. Commit in Git: `git commit -m \"changed data\"`"
   ]
  },
  {
   "cell_type": "code",
   "execution_count": null,
   "id": "8f5a0fca",
   "metadata": {},
   "outputs": [],
   "source": []
  },
  {
   "cell_type": "markdown",
   "id": "competitive-investigation",
   "metadata": {},
   "source": [
    "## Excercise 5: Revert 'oops' change1\n",
    "\n",
    "Check the content of our data file : `tail data/dvc_data.csv`\n",
    "\n",
    "'oops' is for sure not ideal training data. \n",
    "\n",
    "Revert our bad changes using git:\n",
    "\n",
    "- `git revert HEAD --no-edit`\n",
    "\n",
    "Fetch data again:\n",
    "- `dvc checkout`\n",
    "- Check result: `tail data/dvc_data.csv`"
   ]
  },
  {
   "cell_type": "code",
   "execution_count": null,
   "id": "d08a7c6c",
   "metadata": {},
   "outputs": [],
   "source": []
  },
  {
   "cell_type": "markdown",
   "id": "double-petersburg",
   "metadata": {},
   "source": [
    "## Excercise 5: Share data with teammates\n",
    "\n",
    "1. Add a DVC remote: `dvc remote add -d myremote gs://mlinproduction/<yourname>`\n",
    "2. Push dvc data: `dvc push`\n",
    "3. Check results: `dvc pull`and `dvc status`"
   ]
  },
  {
   "cell_type": "code",
   "execution_count": null,
   "id": "87c0b2a4",
   "metadata": {},
   "outputs": [],
   "source": []
  },
  {
   "cell_type": "markdown",
   "id": "adjusted-while",
   "metadata": {},
   "source": [
    "## Bonus Excercise: Try to pull data from another teammate to your repository\n",
    "\n",
    "If you still have time, you can try to pull data from a teammate to your repository.\n",
    "\n",
    "Hint: \n",
    "- You can use `dvc import` or `dvc get`. Check the documentation"
   ]
  }
 ],
 "metadata": {
  "kernelspec": {
   "display_name": "Python 3",
   "language": "python",
   "name": "python3"
  },
  "language_info": {
   "codemirror_mode": {
    "name": "ipython",
    "version": 3
   },
   "file_extension": ".py",
   "mimetype": "text/x-python",
   "name": "python",
   "nbconvert_exporter": "python",
   "pygments_lexer": "ipython3",
   "version": "3.8.8"
  }
 },
 "nbformat": 4,
 "nbformat_minor": 5
}
