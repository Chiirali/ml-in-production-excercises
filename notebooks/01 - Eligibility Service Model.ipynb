{
 "cells": [
  {
   "cell_type": "markdown",
   "id": "differential-aquarium",
   "metadata": {
    "pycharm": {
     "name": "#%% md\n"
    }
   },
   "source": [
    "# Excercise 1\n",
    "\n",
    "In Excercise 1 we create a basic model to predict if a request is eligible to be a customer of  Sustaino.\n",
    "\n",
    "First we load our data:"
   ]
  },
  {
   "cell_type": "code",
   "execution_count": 1,
   "id": "exclusive-vienna",
   "metadata": {
    "pycharm": {
     "name": "#%%\n"
    }
   },
   "outputs": [
    {
     "data": {
      "text/html": [
       "<div>\n",
       "<style scoped>\n",
       "    .dataframe tbody tr th:only-of-type {\n",
       "        vertical-align: middle;\n",
       "    }\n",
       "\n",
       "    .dataframe tbody tr th {\n",
       "        vertical-align: top;\n",
       "    }\n",
       "\n",
       "    .dataframe thead th {\n",
       "        text-align: right;\n",
       "    }\n",
       "</style>\n",
       "<table border=\"1\" class=\"dataframe\">\n",
       "  <thead>\n",
       "    <tr style=\"text-align: right;\">\n",
       "      <th></th>\n",
       "      <th>id_pk</th>\n",
       "      <th>member_id</th>\n",
       "      <th>loan_amnt</th>\n",
       "      <th>funded_amnt</th>\n",
       "      <th>funded_amnt_inv</th>\n",
       "      <th>term</th>\n",
       "      <th>int_rate</th>\n",
       "      <th>installment</th>\n",
       "      <th>grade</th>\n",
       "      <th>sub_grade</th>\n",
       "      <th>emp_title</th>\n",
       "      <th>emp_length</th>\n",
       "      <th>home_ownership</th>\n",
       "      <th>annual_inc</th>\n",
       "      <th>verification_status</th>\n",
       "      <th>issue_month</th>\n",
       "      <th>issue_year</th>\n",
       "      <th>loan_status</th>\n",
       "      <th>pymnt_plan</th>\n",
       "      <th>url</th>\n",
       "      <th>purpose</th>\n",
       "      <th>title</th>\n",
       "      <th>zip_code</th>\n",
       "      <th>addr_state</th>\n",
       "      <th>dti</th>\n",
       "      <th>delinq_2yrs</th>\n",
       "      <th>earliest_cr_line_month</th>\n",
       "      <th>earliest_cr_line_year</th>\n",
       "      <th>inq_last_6mths</th>\n",
       "      <th>mths_since_last_delinq</th>\n",
       "      <th>open_acc</th>\n",
       "      <th>pub_rec</th>\n",
       "      <th>revol_bal</th>\n",
       "      <th>revol_util</th>\n",
       "      <th>total_acc</th>\n",
       "      <th>initial_list_status</th>\n",
       "      <th>out_prncp</th>\n",
       "      <th>out_prncp_inv</th>\n",
       "      <th>total_pymnt</th>\n",
       "      <th>total_pymnt_inv</th>\n",
       "      <th>total_rec_prncp</th>\n",
       "      <th>total_rec_int</th>\n",
       "      <th>total_rec_late_fee</th>\n",
       "      <th>recoveries</th>\n",
       "      <th>collection_recovery_fee</th>\n",
       "      <th>last_pymnt_month</th>\n",
       "      <th>last_pymnt_year</th>\n",
       "      <th>last_pymnt_amnt</th>\n",
       "      <th>next_pymnt_month</th>\n",
       "      <th>next_pymnt_year</th>\n",
       "      <th>last_credit_pull_month</th>\n",
       "      <th>last_credit_pull_year</th>\n",
       "      <th>collections_12_mths_ex_med</th>\n",
       "      <th>policy_code</th>\n",
       "      <th>application_type</th>\n",
       "      <th>acc_now_delinq</th>\n",
       "      <th>tot_coll_amt</th>\n",
       "      <th>tot_cur_bal</th>\n",
       "      <th>total_rev_hi_lim</th>\n",
       "    </tr>\n",
       "  </thead>\n",
       "  <tbody>\n",
       "    <tr>\n",
       "      <th>0</th>\n",
       "      <td>1077501</td>\n",
       "      <td>1296599</td>\n",
       "      <td>5000.0</td>\n",
       "      <td>5000.0</td>\n",
       "      <td>4975.0</td>\n",
       "      <td>36</td>\n",
       "      <td>10.65</td>\n",
       "      <td>162.87</td>\n",
       "      <td>B</td>\n",
       "      <td>B2</td>\n",
       "      <td>NaN</td>\n",
       "      <td>10</td>\n",
       "      <td>RENT</td>\n",
       "      <td>24000.0</td>\n",
       "      <td>Verified</td>\n",
       "      <td>Dec</td>\n",
       "      <td>2011</td>\n",
       "      <td>Fully Paid</td>\n",
       "      <td>n</td>\n",
       "      <td>https://www.lendingclub.com/browse/loanDetail....</td>\n",
       "      <td>credit_card</td>\n",
       "      <td>Computer</td>\n",
       "      <td>860xx</td>\n",
       "      <td>AZ</td>\n",
       "      <td>27.65</td>\n",
       "      <td>0.0</td>\n",
       "      <td>Jan</td>\n",
       "      <td>1985.0</td>\n",
       "      <td>1.0</td>\n",
       "      <td>NaN</td>\n",
       "      <td>3.0</td>\n",
       "      <td>0.0</td>\n",
       "      <td>13648.0</td>\n",
       "      <td>83.7</td>\n",
       "      <td>9.0</td>\n",
       "      <td>f</td>\n",
       "      <td>0.0</td>\n",
       "      <td>0.0</td>\n",
       "      <td>5861.071414</td>\n",
       "      <td>5831.78</td>\n",
       "      <td>5000.00</td>\n",
       "      <td>861.07</td>\n",
       "      <td>0.00</td>\n",
       "      <td>0.00</td>\n",
       "      <td>0.00</td>\n",
       "      <td>Jan</td>\n",
       "      <td>2015.0</td>\n",
       "      <td>171.62</td>\n",
       "      <td>NaN</td>\n",
       "      <td>NaN</td>\n",
       "      <td>Jan</td>\n",
       "      <td>2016.0</td>\n",
       "      <td>0.0</td>\n",
       "      <td>1.0</td>\n",
       "      <td>INDIVIDUAL</td>\n",
       "      <td>0.0</td>\n",
       "      <td>NaN</td>\n",
       "      <td>NaN</td>\n",
       "      <td>NaN</td>\n",
       "    </tr>\n",
       "    <tr>\n",
       "      <th>1</th>\n",
       "      <td>1077430</td>\n",
       "      <td>1314167</td>\n",
       "      <td>2500.0</td>\n",
       "      <td>2500.0</td>\n",
       "      <td>2500.0</td>\n",
       "      <td>60</td>\n",
       "      <td>15.27</td>\n",
       "      <td>59.83</td>\n",
       "      <td>C</td>\n",
       "      <td>C4</td>\n",
       "      <td>Ryder</td>\n",
       "      <td>0</td>\n",
       "      <td>RENT</td>\n",
       "      <td>30000.0</td>\n",
       "      <td>Source Verified</td>\n",
       "      <td>Dec</td>\n",
       "      <td>2011</td>\n",
       "      <td>Charged Off</td>\n",
       "      <td>n</td>\n",
       "      <td>https://www.lendingclub.com/browse/loanDetail....</td>\n",
       "      <td>car</td>\n",
       "      <td>bike</td>\n",
       "      <td>309xx</td>\n",
       "      <td>GA</td>\n",
       "      <td>1.00</td>\n",
       "      <td>0.0</td>\n",
       "      <td>Apr</td>\n",
       "      <td>1999.0</td>\n",
       "      <td>5.0</td>\n",
       "      <td>NaN</td>\n",
       "      <td>3.0</td>\n",
       "      <td>0.0</td>\n",
       "      <td>1687.0</td>\n",
       "      <td>9.4</td>\n",
       "      <td>4.0</td>\n",
       "      <td>f</td>\n",
       "      <td>0.0</td>\n",
       "      <td>0.0</td>\n",
       "      <td>1008.710000</td>\n",
       "      <td>1008.71</td>\n",
       "      <td>456.46</td>\n",
       "      <td>435.17</td>\n",
       "      <td>0.00</td>\n",
       "      <td>117.08</td>\n",
       "      <td>1.11</td>\n",
       "      <td>Apr</td>\n",
       "      <td>2013.0</td>\n",
       "      <td>119.66</td>\n",
       "      <td>NaN</td>\n",
       "      <td>NaN</td>\n",
       "      <td>Sep</td>\n",
       "      <td>2013.0</td>\n",
       "      <td>0.0</td>\n",
       "      <td>1.0</td>\n",
       "      <td>INDIVIDUAL</td>\n",
       "      <td>0.0</td>\n",
       "      <td>NaN</td>\n",
       "      <td>NaN</td>\n",
       "      <td>NaN</td>\n",
       "    </tr>\n",
       "    <tr>\n",
       "      <th>2</th>\n",
       "      <td>1077175</td>\n",
       "      <td>1313524</td>\n",
       "      <td>2400.0</td>\n",
       "      <td>2400.0</td>\n",
       "      <td>2400.0</td>\n",
       "      <td>36</td>\n",
       "      <td>15.96</td>\n",
       "      <td>84.33</td>\n",
       "      <td>C</td>\n",
       "      <td>C5</td>\n",
       "      <td>NaN</td>\n",
       "      <td>10</td>\n",
       "      <td>RENT</td>\n",
       "      <td>12252.0</td>\n",
       "      <td>Not Verified</td>\n",
       "      <td>Dec</td>\n",
       "      <td>2011</td>\n",
       "      <td>Fully Paid</td>\n",
       "      <td>n</td>\n",
       "      <td>https://www.lendingclub.com/browse/loanDetail....</td>\n",
       "      <td>small_business</td>\n",
       "      <td>real estate business</td>\n",
       "      <td>606xx</td>\n",
       "      <td>IL</td>\n",
       "      <td>8.72</td>\n",
       "      <td>0.0</td>\n",
       "      <td>Nov</td>\n",
       "      <td>2001.0</td>\n",
       "      <td>2.0</td>\n",
       "      <td>NaN</td>\n",
       "      <td>2.0</td>\n",
       "      <td>0.0</td>\n",
       "      <td>2956.0</td>\n",
       "      <td>98.5</td>\n",
       "      <td>10.0</td>\n",
       "      <td>f</td>\n",
       "      <td>0.0</td>\n",
       "      <td>0.0</td>\n",
       "      <td>3003.653644</td>\n",
       "      <td>3003.65</td>\n",
       "      <td>2400.00</td>\n",
       "      <td>603.65</td>\n",
       "      <td>0.00</td>\n",
       "      <td>0.00</td>\n",
       "      <td>0.00</td>\n",
       "      <td>Jun</td>\n",
       "      <td>2014.0</td>\n",
       "      <td>649.91</td>\n",
       "      <td>NaN</td>\n",
       "      <td>NaN</td>\n",
       "      <td>Jan</td>\n",
       "      <td>2016.0</td>\n",
       "      <td>0.0</td>\n",
       "      <td>1.0</td>\n",
       "      <td>INDIVIDUAL</td>\n",
       "      <td>0.0</td>\n",
       "      <td>NaN</td>\n",
       "      <td>NaN</td>\n",
       "      <td>NaN</td>\n",
       "    </tr>\n",
       "    <tr>\n",
       "      <th>3</th>\n",
       "      <td>1076863</td>\n",
       "      <td>1277178</td>\n",
       "      <td>10000.0</td>\n",
       "      <td>10000.0</td>\n",
       "      <td>10000.0</td>\n",
       "      <td>36</td>\n",
       "      <td>13.49</td>\n",
       "      <td>339.31</td>\n",
       "      <td>C</td>\n",
       "      <td>C1</td>\n",
       "      <td>AIR RESOURCES BOARD</td>\n",
       "      <td>10</td>\n",
       "      <td>RENT</td>\n",
       "      <td>49200.0</td>\n",
       "      <td>Source Verified</td>\n",
       "      <td>Dec</td>\n",
       "      <td>2011</td>\n",
       "      <td>Fully Paid</td>\n",
       "      <td>n</td>\n",
       "      <td>https://www.lendingclub.com/browse/loanDetail....</td>\n",
       "      <td>other</td>\n",
       "      <td>personel</td>\n",
       "      <td>917xx</td>\n",
       "      <td>CA</td>\n",
       "      <td>20.00</td>\n",
       "      <td>0.0</td>\n",
       "      <td>Feb</td>\n",
       "      <td>1996.0</td>\n",
       "      <td>1.0</td>\n",
       "      <td>35.0</td>\n",
       "      <td>10.0</td>\n",
       "      <td>0.0</td>\n",
       "      <td>5598.0</td>\n",
       "      <td>21.0</td>\n",
       "      <td>37.0</td>\n",
       "      <td>f</td>\n",
       "      <td>0.0</td>\n",
       "      <td>0.0</td>\n",
       "      <td>12226.302212</td>\n",
       "      <td>12226.30</td>\n",
       "      <td>10000.00</td>\n",
       "      <td>2209.33</td>\n",
       "      <td>16.97</td>\n",
       "      <td>0.00</td>\n",
       "      <td>0.00</td>\n",
       "      <td>Jan</td>\n",
       "      <td>2015.0</td>\n",
       "      <td>357.48</td>\n",
       "      <td>NaN</td>\n",
       "      <td>NaN</td>\n",
       "      <td>Jan</td>\n",
       "      <td>2015.0</td>\n",
       "      <td>0.0</td>\n",
       "      <td>1.0</td>\n",
       "      <td>INDIVIDUAL</td>\n",
       "      <td>0.0</td>\n",
       "      <td>NaN</td>\n",
       "      <td>NaN</td>\n",
       "      <td>NaN</td>\n",
       "    </tr>\n",
       "    <tr>\n",
       "      <th>4</th>\n",
       "      <td>1075358</td>\n",
       "      <td>1311748</td>\n",
       "      <td>3000.0</td>\n",
       "      <td>3000.0</td>\n",
       "      <td>3000.0</td>\n",
       "      <td>60</td>\n",
       "      <td>12.69</td>\n",
       "      <td>67.79</td>\n",
       "      <td>B</td>\n",
       "      <td>B5</td>\n",
       "      <td>University Medical Group</td>\n",
       "      <td>1</td>\n",
       "      <td>RENT</td>\n",
       "      <td>80000.0</td>\n",
       "      <td>Source Verified</td>\n",
       "      <td>Dec</td>\n",
       "      <td>2011</td>\n",
       "      <td>Current</td>\n",
       "      <td>n</td>\n",
       "      <td>https://www.lendingclub.com/browse/loanDetail....</td>\n",
       "      <td>other</td>\n",
       "      <td>Personal</td>\n",
       "      <td>972xx</td>\n",
       "      <td>OR</td>\n",
       "      <td>17.94</td>\n",
       "      <td>0.0</td>\n",
       "      <td>Jan</td>\n",
       "      <td>1996.0</td>\n",
       "      <td>0.0</td>\n",
       "      <td>38.0</td>\n",
       "      <td>15.0</td>\n",
       "      <td>0.0</td>\n",
       "      <td>27783.0</td>\n",
       "      <td>53.9</td>\n",
       "      <td>38.0</td>\n",
       "      <td>f</td>\n",
       "      <td>766.9</td>\n",
       "      <td>766.9</td>\n",
       "      <td>3242.170000</td>\n",
       "      <td>3242.17</td>\n",
       "      <td>2233.10</td>\n",
       "      <td>1009.07</td>\n",
       "      <td>0.00</td>\n",
       "      <td>0.00</td>\n",
       "      <td>0.00</td>\n",
       "      <td>Jan</td>\n",
       "      <td>2016.0</td>\n",
       "      <td>67.79</td>\n",
       "      <td>Feb</td>\n",
       "      <td>2016.0</td>\n",
       "      <td>Jan</td>\n",
       "      <td>2016.0</td>\n",
       "      <td>0.0</td>\n",
       "      <td>1.0</td>\n",
       "      <td>INDIVIDUAL</td>\n",
       "      <td>0.0</td>\n",
       "      <td>NaN</td>\n",
       "      <td>NaN</td>\n",
       "      <td>NaN</td>\n",
       "    </tr>\n",
       "  </tbody>\n",
       "</table>\n",
       "</div>"
      ],
      "text/plain": [
       "     id_pk  member_id  loan_amnt  funded_amnt  funded_amnt_inv  term  \\\n",
       "0  1077501    1296599     5000.0       5000.0           4975.0    36   \n",
       "1  1077430    1314167     2500.0       2500.0           2500.0    60   \n",
       "2  1077175    1313524     2400.0       2400.0           2400.0    36   \n",
       "3  1076863    1277178    10000.0      10000.0          10000.0    36   \n",
       "4  1075358    1311748     3000.0       3000.0           3000.0    60   \n",
       "\n",
       "   int_rate  installment grade sub_grade                 emp_title  \\\n",
       "0     10.65       162.87     B        B2                       NaN   \n",
       "1     15.27        59.83     C        C4                     Ryder   \n",
       "2     15.96        84.33     C        C5                       NaN   \n",
       "3     13.49       339.31     C        C1       AIR RESOURCES BOARD   \n",
       "4     12.69        67.79     B        B5  University Medical Group   \n",
       "\n",
       "   emp_length home_ownership  annual_inc verification_status issue_month  \\\n",
       "0          10           RENT     24000.0            Verified         Dec   \n",
       "1           0           RENT     30000.0     Source Verified         Dec   \n",
       "2          10           RENT     12252.0        Not Verified         Dec   \n",
       "3          10           RENT     49200.0     Source Verified         Dec   \n",
       "4           1           RENT     80000.0     Source Verified         Dec   \n",
       "\n",
       "   issue_year  loan_status pymnt_plan  \\\n",
       "0        2011   Fully Paid          n   \n",
       "1        2011  Charged Off          n   \n",
       "2        2011   Fully Paid          n   \n",
       "3        2011   Fully Paid          n   \n",
       "4        2011      Current          n   \n",
       "\n",
       "                                                 url         purpose  \\\n",
       "0  https://www.lendingclub.com/browse/loanDetail....     credit_card   \n",
       "1  https://www.lendingclub.com/browse/loanDetail....             car   \n",
       "2  https://www.lendingclub.com/browse/loanDetail....  small_business   \n",
       "3  https://www.lendingclub.com/browse/loanDetail....           other   \n",
       "4  https://www.lendingclub.com/browse/loanDetail....           other   \n",
       "\n",
       "                  title zip_code addr_state    dti  delinq_2yrs  \\\n",
       "0              Computer    860xx         AZ  27.65          0.0   \n",
       "1                  bike    309xx         GA   1.00          0.0   \n",
       "2  real estate business    606xx         IL   8.72          0.0   \n",
       "3              personel    917xx         CA  20.00          0.0   \n",
       "4              Personal    972xx         OR  17.94          0.0   \n",
       "\n",
       "  earliest_cr_line_month  earliest_cr_line_year  inq_last_6mths  \\\n",
       "0                    Jan                 1985.0             1.0   \n",
       "1                    Apr                 1999.0             5.0   \n",
       "2                    Nov                 2001.0             2.0   \n",
       "3                    Feb                 1996.0             1.0   \n",
       "4                    Jan                 1996.0             0.0   \n",
       "\n",
       "   mths_since_last_delinq  open_acc  pub_rec  revol_bal  revol_util  \\\n",
       "0                     NaN       3.0      0.0    13648.0        83.7   \n",
       "1                     NaN       3.0      0.0     1687.0         9.4   \n",
       "2                     NaN       2.0      0.0     2956.0        98.5   \n",
       "3                    35.0      10.0      0.0     5598.0        21.0   \n",
       "4                    38.0      15.0      0.0    27783.0        53.9   \n",
       "\n",
       "   total_acc initial_list_status  out_prncp  out_prncp_inv   total_pymnt  \\\n",
       "0        9.0                   f        0.0            0.0   5861.071414   \n",
       "1        4.0                   f        0.0            0.0   1008.710000   \n",
       "2       10.0                   f        0.0            0.0   3003.653644   \n",
       "3       37.0                   f        0.0            0.0  12226.302212   \n",
       "4       38.0                   f      766.9          766.9   3242.170000   \n",
       "\n",
       "   total_pymnt_inv  total_rec_prncp  total_rec_int  total_rec_late_fee  \\\n",
       "0          5831.78          5000.00         861.07                0.00   \n",
       "1          1008.71           456.46         435.17                0.00   \n",
       "2          3003.65          2400.00         603.65                0.00   \n",
       "3         12226.30         10000.00        2209.33               16.97   \n",
       "4          3242.17          2233.10        1009.07                0.00   \n",
       "\n",
       "   recoveries  collection_recovery_fee last_pymnt_month  last_pymnt_year  \\\n",
       "0        0.00                     0.00              Jan           2015.0   \n",
       "1      117.08                     1.11              Apr           2013.0   \n",
       "2        0.00                     0.00              Jun           2014.0   \n",
       "3        0.00                     0.00              Jan           2015.0   \n",
       "4        0.00                     0.00              Jan           2016.0   \n",
       "\n",
       "   last_pymnt_amnt next_pymnt_month  next_pymnt_year last_credit_pull_month  \\\n",
       "0           171.62              NaN              NaN                    Jan   \n",
       "1           119.66              NaN              NaN                    Sep   \n",
       "2           649.91              NaN              NaN                    Jan   \n",
       "3           357.48              NaN              NaN                    Jan   \n",
       "4            67.79              Feb           2016.0                    Jan   \n",
       "\n",
       "   last_credit_pull_year  collections_12_mths_ex_med  policy_code  \\\n",
       "0                 2016.0                         0.0          1.0   \n",
       "1                 2013.0                         0.0          1.0   \n",
       "2                 2016.0                         0.0          1.0   \n",
       "3                 2015.0                         0.0          1.0   \n",
       "4                 2016.0                         0.0          1.0   \n",
       "\n",
       "  application_type  acc_now_delinq  tot_coll_amt  tot_cur_bal  \\\n",
       "0       INDIVIDUAL             0.0           NaN          NaN   \n",
       "1       INDIVIDUAL             0.0           NaN          NaN   \n",
       "2       INDIVIDUAL             0.0           NaN          NaN   \n",
       "3       INDIVIDUAL             0.0           NaN          NaN   \n",
       "4       INDIVIDUAL             0.0           NaN          NaN   \n",
       "\n",
       "   total_rev_hi_lim  \n",
       "0               NaN  \n",
       "1               NaN  \n",
       "2               NaN  \n",
       "3               NaN  \n",
       "4               NaN  "
      ]
     },
     "execution_count": 1,
     "metadata": {},
     "output_type": "execute_result"
    }
   ],
   "source": [
    "import pandas as pd\n",
    "import numpy as np\n",
    "import matplotlib.pyplot as plt\n",
    "import seaborn as sns\n",
    "sns.set_style('whitegrid')\n",
    "\n",
    "start_df = pd.read_csv('./clean-loan-data.csv', low_memory=False)\n",
    "\n",
    "pd.set_option('display.max_columns', None)\n",
    "\n",
    "df = start_df.copy(deep=True)\n",
    "df.head()"
   ]
  },
  {
   "cell_type": "markdown",
   "id": "indoor-hygiene",
   "metadata": {
    "pycharm": {
     "name": "#%% md\n"
    }
   },
   "source": [
    "We then specify our target. If credit did default, it is not eligible, otherwise it is."
   ]
  },
  {
   "cell_type": "code",
   "execution_count": 2,
   "id": "swedish-brunei",
   "metadata": {
    "pycharm": {
     "name": "#%%\n"
    }
   },
   "outputs": [],
   "source": [
    "df['TARGET'] = [0 if i=='Default' else 1 for i in df['loan_status']]"
   ]
  },
  {
   "cell_type": "markdown",
   "id": "wooden-inspiration",
   "metadata": {
    "pycharm": {
     "name": "#%% md\n"
    }
   },
   "source": [
    "We only want to consider 'loan_amnt' and 'annual_inc' since these can be queried in our form"
   ]
  },
  {
   "cell_type": "code",
   "execution_count": 3,
   "id": "southeast-publisher",
   "metadata": {
    "pycharm": {
     "name": "#%%\n"
    }
   },
   "outputs": [],
   "source": [
    "df.drop(df.columns.difference(['loan_amnt', 'annual_inc', 'TARGET']), 1, inplace=True)"
   ]
  },
  {
   "cell_type": "code",
   "execution_count": 4,
   "id": "abroad-montreal",
   "metadata": {
    "pycharm": {
     "name": "#%%\n"
    }
   },
   "outputs": [],
   "source": [
    "df = df.dropna()\n",
    "df = pd.get_dummies(df)\n"
   ]
  },
  {
   "cell_type": "markdown",
   "id": "documentary-software",
   "metadata": {
    "pycharm": {
     "name": "#%% md\n"
    }
   },
   "source": [
    "## Train-Test Split\n",
    "\n",
    "We split our model to have data for verifing our model after training"
   ]
  },
  {
   "cell_type": "code",
   "execution_count": 5,
   "id": "neither-empire",
   "metadata": {
    "pycharm": {
     "name": "#%%\n"
    }
   },
   "outputs": [],
   "source": [
    "from sklearn.model_selection import train_test_split\n",
    "X_train = df.drop('TARGET',axis=1)\n",
    "y_train = df['TARGET']"
   ]
  },
  {
   "cell_type": "code",
   "execution_count": 6,
   "id": "round-field",
   "metadata": {
    "pycharm": {
     "name": "#%%\n"
    }
   },
   "outputs": [],
   "source": [
    "X_train, X_test, y_train, y_test = train_test_split(df.drop('TARGET',axis=1),df['TARGET'],test_size=0.15,random_state=101,  stratify=df['TARGET'])"
   ]
  },
  {
   "cell_type": "markdown",
   "id": "pending-policy",
   "metadata": {
    "pycharm": {
     "name": "#%% md\n"
    }
   },
   "source": [
    "We use a StandardScaler to scale our input"
   ]
  },
  {
   "cell_type": "code",
   "execution_count": 7,
   "id": "civic-workplace",
   "metadata": {
    "pycharm": {
     "name": "#%%\n"
    }
   },
   "outputs": [],
   "source": [
    "from sklearn.ensemble import RandomForestClassifier\n",
    "from sklearn.model_selection import cross_val_score, cross_val_predict\n",
    "from sklearn.metrics import accuracy_score, classification_report, confusion_matrix\n",
    "from sklearn.model_selection import cross_validate"
   ]
  },
  {
   "cell_type": "code",
   "execution_count": 8,
   "id": "contemporary-lawsuit",
   "metadata": {
    "pycharm": {
     "name": "#%%\n"
    }
   },
   "outputs": [],
   "source": [
    "from sklearn.preprocessing import StandardScaler\n",
    "sc = StandardScaler()\n",
    "X_train = sc.fit_transform(X_train)\n",
    "X_test=sc.transform(X_test)"
   ]
  },
  {
   "cell_type": "markdown",
   "id": "ruled-prisoner",
   "metadata": {
    "pycharm": {
     "name": "#%% md\n"
    }
   },
   "source": [
    "## Oversampling of minority class"
   ]
  },
  {
   "cell_type": "markdown",
   "id": "weighted-table",
   "metadata": {
    "pycharm": {
     "name": "#%% md\n"
    }
   },
   "source": [
    "Since our data is higly inbalanced we use SMOTE [Synthetic Minority Oversampling Technique](https://machinelearningmastery.com/smote-oversampling-for-imbalanced-classification/) to oversample our training data"
   ]
  },
  {
   "cell_type": "code",
   "execution_count": 9,
   "id": "prostate-victim",
   "metadata": {
    "pycharm": {
     "name": "#%%\n"
    }
   },
   "outputs": [],
   "source": [
    "from imblearn.over_sampling import SMOTE\n",
    "\n",
    "sm = SMOTE(random_state=12)\n",
    "x_train_r, y_train_r = sm.fit_resample(X_train, y_train)"
   ]
  },
  {
   "cell_type": "markdown",
   "id": "secure-present",
   "metadata": {
    "pycharm": {
     "name": "#%% md\n"
    }
   },
   "source": [
    "## Train first model\n",
    "\n",
    "We train our first model and evaluate its performance on our test data"
   ]
  },
  {
   "cell_type": "code",
   "execution_count": 10,
   "id": "governmental-color",
   "metadata": {
    "pycharm": {
     "name": "#%%\n"
    }
   },
   "outputs": [],
   "source": [
    "from sklearn.linear_model import LogisticRegression\n",
    "\n",
    "log_reg = LogisticRegression(C = 0.0001,random_state=12)"
   ]
  },
  {
   "cell_type": "code",
   "execution_count": 11,
   "id": "positive-cookbook",
   "metadata": {
    "pycharm": {
     "name": "#%%\n"
    }
   },
   "outputs": [
    {
     "data": {
      "text/plain": [
       "{'fit_time': array([0.21831846, 0.20198464, 0.20621133]),\n",
       " 'score_time': array([0.1154635 , 0.11629343, 0.11339068]),\n",
       " 'test_accuracy': array([0.57204648, 0.57115034, 0.57263708]),\n",
       " 'test_recall': array([0.47597559, 0.47241683, 0.47261199])}"
      ]
     },
     "execution_count": 11,
     "metadata": {},
     "output_type": "execute_result"
    }
   ],
   "source": [
    "cross_validate(log_reg, x_train_r, y_train_r, cv=3, scoring=('accuracy', 'recall'))"
   ]
  },
  {
   "cell_type": "code",
   "execution_count": 12,
   "id": "minus-objective",
   "metadata": {
    "pycharm": {
     "name": "#%%\n"
    }
   },
   "outputs": [
    {
     "data": {
      "text/plain": [
       "array([[  116,    67],\n",
       "       [69791, 63133]])"
      ]
     },
     "execution_count": 12,
     "metadata": {},
     "output_type": "execute_result"
    }
   ],
   "source": [
    "log_reg.fit(x_train_r, y_train_r)\n",
    "confusion_matrix(y_test, log_reg.predict(X_test))"
   ]
  },
  {
   "cell_type": "code",
   "execution_count": 13,
   "id": "honey-perth",
   "metadata": {
    "pycharm": {
     "name": "#%%\n"
    }
   },
   "outputs": [
    {
     "data": {
      "text/plain": [
       "array([0])"
      ]
     },
     "execution_count": 13,
     "metadata": {},
     "output_type": "execute_result"
    }
   ],
   "source": [
    "log_reg.predict([[50000, 20000]])"
   ]
  },
  {
   "cell_type": "markdown",
   "id": "alike-lambda",
   "metadata": {
    "pycharm": {
     "name": "#%% md\n"
    }
   },
   "source": [
    "Our model is pretty bad. But we can improve that later. Our focus is on providing the infrastructure to be able to iterate quickly to enable improvement of our model while providing value to our customers."
   ]
  },
  {
   "cell_type": "markdown",
   "id": "endangered-circus",
   "metadata": {
    "pycharm": {
     "name": "#%% md\n"
    }
   },
   "source": [
    "## Excercise 1: Create Pipeline\n",
    "\n",
    "Now that we trained our first model we want to create an inference pipeline that combines the use of the StandardScaler and our LogisticRegression model.\n",
    "\n",
    "1. Create a sklearn pipeline using the function [`make_pipeline`](https://scikit-learn.org/stable/modules/generated/sklearn.pipeline.make_pipeline.html).\n",
    "\n",
    "2. Fit this pipeline on our training data `x_train_r`, `y_train_r`\n",
    "3. Calculate the confusion matrix using `confusion_matrix(y_test, eligibility_pipeline.predict(X_test))`"
   ]
  },
  {
   "cell_type": "code",
   "execution_count": 24,
   "id": "mediterranean-hypothesis",
   "metadata": {
    "pycharm": {
     "name": "#%%\n"
    }
   },
   "outputs": [
    {
     "name": "stdout",
     "output_type": "stream",
     "text": [
      "[[  116    67]\n",
      " [69667 63257]]\n"
     ]
    },
    {
     "data": {
      "image/png": "[encoded data removed]",
      "text/plain": [
       "<Figure size 640x480 with 2 Axes>"
      ]
     },
     "metadata": {},
     "output_type": "display_data"
    }
   ],
   "source": [
    "from sklearn.preprocessing import StandardScaler\n",
    "from sklearn.pipeline import Pipeline\n",
    "from sklearn.pipeline import make_pipeline\n",
    "\n",
    "pipeline = make_pipeline(StandardScaler(), LogisticRegression(C = 0.0001,random_state=12))\n",
    "model = pipeline.fit(x_train_r, y_train_r)\n",
    "cm = confusion_matrix(y_test, pipeline.predict(X_test))\n",
    "print(cm)\n",
    "\n",
    "\n",
    "ax= plt.subplot()\n",
    "sns.heatmap(cm, annot=True, fmt='g', ax=ax);  #annot=True to annotate cells, ftm='g' to disable scientific notation\n"
   ]
  },
  {
   "cell_type": "markdown",
   "id": "productive-contents",
   "metadata": {
    "pycharm": {
     "name": "#%% md\n"
    }
   },
   "source": [
    "## Excercise 2: Store model\n",
    "\n",
    "To be able to use our model at a later time we need to store the model.\n",
    "\n",
    "sklearn recommends storing model pipelines using a pyhton library called joblib. So lets do that.\n",
    "\n",
    "store your pipeline at `'models/eligibility_pipeline.joblib`.\n",
    "\n",
    "Use the documentation here: https://scikit-learn.org/stable/modules/model_persistence.html#python-specific-serialization\n",
    "\n",
    "Load the pipeline again and execute predict on your model. Does it still do the same?"
   ]
  },
  {
   "cell_type": "code",
   "execution_count": 18,
   "id": "communist-sacrifice",
   "metadata": {
    "pycharm": {
     "name": "#%%\n"
    }
   },
   "outputs": [
    {
     "data": {
      "text/plain": [
       "['models/eligibility_pipeline.joblib']"
      ]
     },
     "execution_count": 18,
     "metadata": {},
     "output_type": "execute_result"
    }
   ],
   "source": [
    "from joblib import dump, load\n",
    "dump(model, 'models/eligibility_pipeline.joblib')"
   ]
  },
  {
   "cell_type": "code",
   "execution_count": 19,
   "id": "d47d1bcb-7f1e-4201-8a96-d055356bcb06",
   "metadata": {},
   "outputs": [
    {
     "data": {
      "text/plain": [
       "array([0])"
      ]
     },
     "execution_count": 19,
     "metadata": {},
     "output_type": "execute_result"
    }
   ],
   "source": [
    "model = load('models/eligibility_pipeline.joblib')\n",
    "model.predict([[50000, 20000]])"
   ]
  },
  {
   "cell_type": "code",
   "execution_count": 25,
   "id": "c86f9114-159e-4eaf-a11d-9dc9c076ad96",
   "metadata": {},
   "outputs": [
    {
     "data": {
      "text/plain": [
       "array([0])"
      ]
     },
     "execution_count": 25,
     "metadata": {},
     "output_type": "execute_result"
    }
   ],
   "source": [
    "model.predict([[150000, 10000]])"
   ]
  },
  {
   "cell_type": "code",
   "execution_count": 26,
   "id": "70e51bdf-2fef-4ef9-b2c4-6d8bcdd3bfa5",
   "metadata": {},
   "outputs": [
    {
     "data": {
      "text/plain": [
       "array([1])"
      ]
     },
     "execution_count": 26,
     "metadata": {},
     "output_type": "execute_result"
    }
   ],
   "source": [
    "model.predict([[150000, 100000]])"
   ]
  }
 ],
 "metadata": {
  "kernelspec": {
   "display_name": "Python 3 (ipykernel)",
   "language": "python",
   "name": "python3"
  },
  "language_info": {
   "codemirror_mode": {
    "name": "ipython",
    "version": 3
   },
   "file_extension": ".py",
   "mimetype": "text/x-python",
   "name": "python",
   "nbconvert_exporter": "python",
   "pygments_lexer": "ipython3",
   "version": "3.7.12"
  }
 },
 "nbformat": 4,
 "nbformat_minor": 5
}
